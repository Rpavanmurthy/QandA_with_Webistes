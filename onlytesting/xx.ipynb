{
 "cells": [
  {
   "cell_type": "code",
   "execution_count": 1,
   "metadata": {},
   "outputs": [],
   "source": [
    "import pandas as pd\n",
    "import random"
   ]
  },
  {
   "cell_type": "code",
   "execution_count": 2,
   "metadata": {},
   "outputs": [
    {
     "name": "stdout",
     "output_type": "stream",
     "text": [
      "   ID  Value\n",
      "0   1     79\n",
      "1   2      6\n",
      "2   3     51\n",
      "3   4     56\n",
      "4   5     63\n",
      "5   6     21\n",
      "6   7     11\n",
      "7   8     96\n",
      "8   9     79\n",
      "9  10     50\n"
     ]
    }
   ],
   "source": [
    "import pandas as pd\n",
    "import random\n",
    "\n",
    "# Initialize an empty list to store row data\n",
    "data = []\n",
    "\n",
    "# Loop to generate data\n",
    "for i in range(1, 11):\n",
    "    row = {\n",
    "        'ID': i,\n",
    "        'Value': random.randint(1, 100)  # Random integer between 1 and 100\n",
    "    }\n",
    "    data.append(row)\n",
    "\n",
    "# Create DataFrame from the list of dictionaries\n",
    "df = pd.DataFrame(data)\n",
    "\n",
    "# Display the DataFrame\n",
    "print(df)\n"
   ]
  },
  {
   "cell_type": "code",
   "execution_count": null,
   "metadata": {},
   "outputs": [],
   "source": []
  }
 ],
 "metadata": {
  "kernelspec": {
   "display_name": "foreverything",
   "language": "python",
   "name": "python3"
  },
  "language_info": {
   "codemirror_mode": {
    "name": "ipython",
    "version": 3
   },
   "file_extension": ".py",
   "mimetype": "text/x-python",
   "name": "python",
   "nbconvert_exporter": "python",
   "pygments_lexer": "ipython3",
   "version": "3.12.4"
  }
 },
 "nbformat": 4,
 "nbformat_minor": 2
}
